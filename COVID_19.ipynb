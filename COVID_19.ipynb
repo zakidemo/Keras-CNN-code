{
  "nbformat": 4,
  "nbformat_minor": 0,
  "metadata": {
    "colab": {
      "name": "COVID-19.ipynb",
      "provenance": [],
      "authorship_tag": "ABX9TyMt2UQyfBtdtjtTfPJnvPJ/",
      "include_colab_link": true
    },
    "kernelspec": {
      "name": "python3",
      "display_name": "Python 3"
    },
    "accelerator": "GPU"
  },
  "cells": [
    {
      "cell_type": "markdown",
      "metadata": {
        "id": "view-in-github",
        "colab_type": "text"
      },
      "source": [
        "<a href=\"https://colab.research.google.com/github/zakidemo/Keras-CNN-code/blob/master/COVID_19.ipynb\" target=\"_parent\"><img src=\"https://colab.research.google.com/assets/colab-badge.svg\" alt=\"Open In Colab\"/></a>"
      ]
    },
    {
      "cell_type": "code",
      "metadata": {
        "id": "SBW-uu8DM7JR",
        "colab_type": "code",
        "colab": {}
      },
      "source": [
        "# install tensorflow version 2\n",
        "%tensorflow_version 2.x\n",
        "import tensorflow as tf"
      ],
      "execution_count": 36,
      "outputs": []
    },
    {
      "cell_type": "code",
      "metadata": {
        "id": "EpYoKolfNjVM",
        "colab_type": "code",
        "colab": {
          "base_uri": "https://localhost:8080/",
          "height": 34
        },
        "outputId": "6f92c0f1-efb1-4e3a-a765-ccf3aa1347c8"
      },
      "source": [
        "# Upload google drive in our colab\n",
        "from google.colab import drive\n",
        "drive.mount('/content/drive')"
      ],
      "execution_count": 37,
      "outputs": [
        {
          "output_type": "stream",
          "text": [
            "Drive already mounted at /content/drive; to attempt to forcibly remount, call drive.mount(\"/content/drive\", force_remount=True).\n"
          ],
          "name": "stdout"
        }
      ]
    },
    {
      "cell_type": "code",
      "metadata": {
        "id": "h87OSZ_6dkTw",
        "colab_type": "code",
        "colab": {}
      },
      "source": [
        "# Improting Libraries\n",
        "import tensorflow.keras\n",
        "from tensorflow.keras.models import Model\n",
        "from tensorflow.keras.layers import Input, Dense, Activation, Flatten, Conv2D, MaxPool2D , Dropout\n",
        "from tensorflow.keras.optimizers import Adam\n",
        "from tensorflow.keras.preprocessing.image import ImageDataGenerator\n",
        "from tensorflow.keras.losses import binary_crossentropy\n",
        "from tensorflow.keras import metrics\n",
        "import matplotlib.pyplot as plt\n",
        "from sklearn.metrics import classification_report, confusion_matrix, plot_confusion_matrix, ConfusionMatrixDisplay\n",
        "import numpy as np"
      ],
      "execution_count": 57,
      "outputs": []
    },
    {
      "cell_type": "code",
      "metadata": {
        "id": "Zv4FQaU-iLsX",
        "colab_type": "code",
        "colab": {}
      },
      "source": [
        "# Create Path fro Both (Train/Test)\n",
        "train_loc = '/content/drive/My Drive/our_DATA/train/'\n",
        "test_loc = '/content/drive/My Drive/our_DATA/val/'"
      ],
      "execution_count": 39,
      "outputs": []
    },
    {
      "cell_type": "code",
      "metadata": {
        "id": "IwPsLNfJ_sLm",
        "colab_type": "code",
        "colab": {
          "base_uri": "https://localhost:8080/",
          "height": 51
        },
        "outputId": "50d7efe4-f9ac-4368-f88f-19c1a2df72c8"
      },
      "source": [
        "# resize images & do DA \n",
        "trdata = ImageDataGenerator(rescale = 1./255,\n",
        "                            shear_range = 0.2,\n",
        "                            zoom_range = 0.2,\n",
        "                            horizontal_flip =True,\n",
        "                            )\n",
        "\n",
        "traindata = trdata.flow_from_directory( directory = train_loc, target_size = (224, 224))\n",
        "\n",
        "tsdata = ImageDataGenerator(rescale = 1./255,\n",
        "                            shear_range = 0.2,\n",
        "                            zoom_range = 0.2,\n",
        "                            horizontal_flip = True,\n",
        "                            )\n",
        "\n",
        "testndata = tsdata.flow_from_directory( directory = test_loc, target_size = (224, 224))"
      ],
      "execution_count": 40,
      "outputs": [
        {
          "output_type": "stream",
          "text": [
            "Found 250 images belonging to 2 classes.\n",
            "Found 110 images belonging to 2 classes.\n"
          ],
          "name": "stdout"
        }
      ]
    },
    {
      "cell_type": "code",
      "metadata": {
        "id": "6Ae90kCsAfnk",
        "colab_type": "code",
        "colab": {
          "base_uri": "https://localhost:8080/",
          "height": 34
        },
        "outputId": "c6a167bd-63f5-44ad-b207-dd75d3fbf32a"
      },
      "source": [
        "traindata.class_indices"
      ],
      "execution_count": 41,
      "outputs": [
        {
          "output_type": "execute_result",
          "data": {
            "text/plain": [
              "{'COVID+': 0, 'COVID-': 1}"
            ]
          },
          "metadata": {
            "tags": []
          },
          "execution_count": 41
        }
      ]
    },
    {
      "cell_type": "code",
      "metadata": {
        "id": "nNkPc9EEAsTu",
        "colab_type": "code",
        "colab": {}
      },
      "source": [
        "# define input\n",
        "input_shape = (224,224,3)\n",
        "\n",
        "# Create the network\n",
        "\n",
        "# Input Layer\n",
        "img_input = Input(shape = input_shape, name = 'img_input')\n",
        "\n",
        "# Build the model\n",
        "\n",
        "x = Conv2D(32, (3,3) , padding = 'same', activation='relu', name ='layer_1') (img_input)\n",
        "x = Conv2D(64, (3,3) , padding = 'same', activation='relu', name ='layer_2') (x)\n",
        "x = MaxPool2D((2,2), strides=(2,2), name ='layer_3') (x)\n",
        "x =Dropout(0.25)(x)\n",
        "\n",
        "x = Conv2D(64, (3,3) , padding = 'same', activation='relu', name ='layer_4') (x)\n",
        "x = MaxPool2D((2,2), strides=(2,2), name ='layer_5') (x)\n",
        "x =Dropout(0.25)(x)\n",
        "\n",
        "x = Conv2D(128, (3,3) , padding = 'same', activation='relu', name ='layer_6') (x)\n",
        "x = MaxPool2D((2,2), strides=(2,2), name ='layer_7') (x)\n",
        "x =Dropout(0.25)(x)\n",
        "\n",
        "x =Flatten(name='layer_8')(x)\n",
        "x = Dense(64, name = 'layer_9')(x)\n",
        "x =Dropout(0.5)(x)\n",
        "x =Dense(2, activation='sigmoid', name ='predections')(x)"
      ],
      "execution_count": 46,
      "outputs": []
    },
    {
      "cell_type": "code",
      "metadata": {
        "id": "1MRsJ7C1Ln7A",
        "colab_type": "code",
        "colab": {}
      },
      "source": [
        "# generate the model\n",
        "model = Model(inputs = img_input, outputs  =x, name = 'CNN_COVID_19' )"
      ],
      "execution_count": 47,
      "outputs": []
    },
    {
      "cell_type": "code",
      "metadata": {
        "id": "Ww-Y_PVzaUcp",
        "colab_type": "code",
        "colab": {
          "base_uri": "https://localhost:8080/",
          "height": 663
        },
        "outputId": "2f61f546-2c66-4844-b90b-f4c3ee89c171"
      },
      "source": [
        "# pint network structure\n",
        "model.summary()"
      ],
      "execution_count": 48,
      "outputs": [
        {
          "output_type": "stream",
          "text": [
            "Model: \"CNN_COVID_19\"\n",
            "_________________________________________________________________\n",
            "Layer (type)                 Output Shape              Param #   \n",
            "=================================================================\n",
            "img_input (InputLayer)       [(None, 224, 224, 3)]     0         \n",
            "_________________________________________________________________\n",
            "layer_1 (Conv2D)             (None, 224, 224, 32)      896       \n",
            "_________________________________________________________________\n",
            "layer_2 (Conv2D)             (None, 224, 224, 64)      18496     \n",
            "_________________________________________________________________\n",
            "layer_3 (MaxPooling2D)       (None, 112, 112, 64)      0         \n",
            "_________________________________________________________________\n",
            "dropout_12 (Dropout)         (None, 112, 112, 64)      0         \n",
            "_________________________________________________________________\n",
            "layer_4 (Conv2D)             (None, 112, 112, 64)      36928     \n",
            "_________________________________________________________________\n",
            "layer_5 (MaxPooling2D)       (None, 56, 56, 64)        0         \n",
            "_________________________________________________________________\n",
            "dropout_13 (Dropout)         (None, 56, 56, 64)        0         \n",
            "_________________________________________________________________\n",
            "layer_6 (Conv2D)             (None, 56, 56, 128)       73856     \n",
            "_________________________________________________________________\n",
            "layer_7 (MaxPooling2D)       (None, 28, 28, 128)       0         \n",
            "_________________________________________________________________\n",
            "dropout_14 (Dropout)         (None, 28, 28, 128)       0         \n",
            "_________________________________________________________________\n",
            "layer_8 (Flatten)            (None, 100352)            0         \n",
            "_________________________________________________________________\n",
            "layer_9 (Dense)              (None, 64)                6422592   \n",
            "_________________________________________________________________\n",
            "dropout_15 (Dropout)         (None, 64)                0         \n",
            "_________________________________________________________________\n",
            "predections (Dense)          (None, 2)                 130       \n",
            "=================================================================\n",
            "Total params: 6,552,898\n",
            "Trainable params: 6,552,898\n",
            "Non-trainable params: 0\n",
            "_________________________________________________________________\n"
          ],
          "name": "stdout"
        }
      ]
    },
    {
      "cell_type": "code",
      "metadata": {
        "id": "FQE64c6-uJ9r",
        "colab_type": "code",
        "colab": {}
      },
      "source": [
        "# Cmpiling the model\n",
        "model.compile(optimizer = 'adam', loss = binary_crossentropy , metrics=['accuracy'])"
      ],
      "execution_count": 49,
      "outputs": []
    },
    {
      "cell_type": "code",
      "metadata": {
        "id": "fdCwNlEEw6lh",
        "colab_type": "code",
        "colab": {
          "base_uri": "https://localhost:8080/",
          "height": 357
        },
        "outputId": "ad777869-5e3e-4026-9382-c89ca12bcbeb"
      },
      "source": [
        "# Start trian/Test\n",
        "batch_size = 32\n",
        "hist = model.fit(traindata, \n",
        "                 steps_per_epoch = traindata.samples//batch_size,\n",
        "                 validation_data = testndata,\n",
        "                 validation_steps = testndata.samples//batch_size,\n",
        "                 epochs = 10\n",
        "                 )"
      ],
      "execution_count": 52,
      "outputs": [
        {
          "output_type": "stream",
          "text": [
            "Epoch 1/10\n",
            "7/7 [==============================] - 12s 2s/step - loss: 1.0977 - accuracy: 0.6473 - val_loss: 0.5942 - val_accuracy: 0.8438\n",
            "Epoch 2/10\n",
            "7/7 [==============================] - 11s 2s/step - loss: 0.3691 - accuracy: 0.8807 - val_loss: 0.3438 - val_accuracy: 0.8958\n",
            "Epoch 3/10\n",
            "7/7 [==============================] - 11s 2s/step - loss: 0.3247 - accuracy: 0.8578 - val_loss: 0.4215 - val_accuracy: 0.8854\n",
            "Epoch 4/10\n",
            "7/7 [==============================] - 11s 2s/step - loss: 0.2630 - accuracy: 0.8945 - val_loss: 0.3821 - val_accuracy: 0.9062\n",
            "Epoch 5/10\n",
            "7/7 [==============================] - 11s 2s/step - loss: 0.1803 - accuracy: 0.9312 - val_loss: 0.2708 - val_accuracy: 0.9583\n",
            "Epoch 6/10\n",
            "7/7 [==============================] - 11s 2s/step - loss: 0.1121 - accuracy: 0.9587 - val_loss: 0.2467 - val_accuracy: 0.9479\n",
            "Epoch 7/10\n",
            "7/7 [==============================] - 11s 2s/step - loss: 0.2154 - accuracy: 0.9404 - val_loss: 0.2986 - val_accuracy: 0.9583\n",
            "Epoch 8/10\n",
            "7/7 [==============================] - 11s 2s/step - loss: 0.1238 - accuracy: 0.9633 - val_loss: 0.1743 - val_accuracy: 0.9792\n",
            "Epoch 9/10\n",
            "7/7 [==============================] - 11s 2s/step - loss: 0.0661 - accuracy: 0.9817 - val_loss: 0.0792 - val_accuracy: 0.9688\n",
            "Epoch 10/10\n",
            "7/7 [==============================] - 11s 2s/step - loss: 0.1751 - accuracy: 0.9587 - val_loss: 0.2456 - val_accuracy: 0.9479\n"
          ],
          "name": "stdout"
        }
      ]
    },
    {
      "cell_type": "code",
      "metadata": {
        "id": "pVxWQB6KxzVK",
        "colab_type": "code",
        "colab": {
          "base_uri": "https://localhost:8080/",
          "height": 281
        },
        "outputId": "07fcc0a4-6195-4065-b996-efd86d96f37f"
      },
      "source": [
        "plt.plot(hist.history['loss'], label = 'train')\n",
        "plt.plot(hist.history['val_loss'], label= 'val')\n",
        "plt.title('CNN_COVID_19 : Loss & Valdation Loss')\n",
        "plt.legend()\n",
        "plt.show()"
      ],
      "execution_count": 53,
      "outputs": [
        {
          "output_type": "display_data",
          "data": {
            "image/png": "[encoded data removed]",
            "text/plain": [
              "<Figure size 432x288 with 1 Axes>"
            ]
          },
          "metadata": {
            "tags": [],
            "needs_background": "light"
          }
        }
      ]
    },
    {
      "cell_type": "code",
      "metadata": {
        "id": "X9qHm07Py1Nj",
        "colab_type": "code",
        "colab": {
          "base_uri": "https://localhost:8080/",
          "height": 281
        },
        "outputId": "155ad0d7-e381-4250-c087-1931e1a23bac"
      },
      "source": [
        "plt.plot(hist.history['accuracy'], label = 'train')\n",
        "plt.plot(hist.history['val_accuracy'], label= 'val')\n",
        "plt.title('CNN_COVID_19 : Accuracy & Valdation Loss')\n",
        "plt.legend()\n",
        "plt.show()"
      ],
      "execution_count": 54,
      "outputs": [
        {
          "output_type": "display_data",
          "data": {
            "image/png": "[encoded data removed]",
            "text/plain": [
              "<Figure size 432x288 with 1 Axes>"
            ]
          },
          "metadata": {
            "tags": [],
            "needs_background": "light"
          }
        }
      ]
    },
    {
      "cell_type": "code",
      "metadata": {
        "id": "6SG2b3XTzLtH",
        "colab_type": "code",
        "colab": {
          "base_uri": "https://localhost:8080/",
          "height": 504
        },
        "outputId": "d34e3c72-643c-4393-ffbb-122c6b2d2bfb"
      },
      "source": [
        "# Confusion Matrix & Precision & recall F1-score\n",
        "\n",
        "target_names = ['COVID+','COVID-']\n",
        "labels_names = [0,1]\n",
        "\n",
        "Y_pred = model.predict_generator(testndata)\n",
        "y_pred = np.argmax(Y_pred, axis = 1)\n",
        "cm = confusion_matrix(testndata.classes, y_pred, labels = labels_names)\n",
        "\n",
        "print('Confusion Matrix')\n",
        "print(confusion_matrix(testndata.classes, y_pred))\n",
        "\n",
        "print('Classification_report')\n",
        "print(classification_report(testndata.classes, y_pred, target_names = target_names ))\n",
        "\n",
        "disp = ConfusionMatrixDisplay(confusion_matrix=cm, display_labels = target_names)\n",
        "disp = disp.plot(cmap = plt.cm.Blues, values_format = 'g')\n",
        "\n",
        "plt.show()\n",
        "\n"
      ],
      "execution_count": 60,
      "outputs": [
        {
          "output_type": "stream",
          "text": [
            "Confusion Matrix\n",
            "[[31 24]\n",
            " [29 26]]\n",
            "Classification_report\n",
            "              precision    recall  f1-score   support\n",
            "\n",
            "      COVID+       0.52      0.56      0.54        55\n",
            "      COVID-       0.52      0.47      0.50        55\n",
            "\n",
            "    accuracy                           0.52       110\n",
            "   macro avg       0.52      0.52      0.52       110\n",
            "weighted avg       0.52      0.52      0.52       110\n",
            "\n"
          ],
          "name": "stdout"
        },
        {
          "output_type": "display_data",
          "data": {
            "image/png": "[encoded data removed]",
            "text/plain": [
              "<Figure size 432x288 with 2 Axes>"
            ]
          },
          "metadata": {
            "tags": [],
            "needs_background": "light"
          }
        }
      ]
    }
  ]
}